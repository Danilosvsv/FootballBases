{
 "cells": [
  {
   "cell_type": "code",
   "execution_count": 1,
   "metadata": {},
   "outputs": [],
   "source": [
    "# pip install urlopen"
   ]
  },
  {
   "cell_type": "code",
   "execution_count": 2,
   "metadata": {},
   "outputs": [],
   "source": [
    "#conda install -c anaconda beautifulsoup4\n",
    "#pip install beautifulsoup4\n",
    "#pip install bs4 #this'll do the work\n",
    "#pip install webdriver-manager"
   ]
  },
  {
   "cell_type": "markdown",
   "metadata": {},
   "source": [
    "## Seções a serem melhoradas ou adicionadas\n",
    "\n",
    "- Automatizar links a serem fornecidos para o script gerar a base de dados\n",
    "\n",
    "## Ligas de Teste\n",
    "\n",
    "- Premier League 2021\n",
    "- Serie B Br 2021"
   ]
  },
  {
   "cell_type": "code",
   "execution_count": 3,
   "metadata": {},
   "outputs": [],
   "source": [
    "# Use esse bloco para instalar pacotes\n"
   ]
  },
  {
   "cell_type": "code",
   "execution_count": 37,
   "metadata": {},
   "outputs": [],
   "source": [
    "from selenium import webdriver\n",
    "from bs4 import BeautifulSoup\n",
    "import pandas as pd\n",
    "from selenium.webdriver.chrome.service import Service\n",
    "from webdriver_manager.chrome import ChromeDriverManager\n",
    "from selenium.webdriver.chrome.options import Options"
   ]
  },
  {
   "cell_type": "code",
   "execution_count": 38,
   "metadata": {},
   "outputs": [],
   "source": [
    "# link = 'https://www.flashscore.com.br/jogo/CWuae5l9/#/resumo-de-jogo/estatisticas-de-jogo/0'\n",
    "# link =  'https://www.flashscore.com.br/jogo/QZq3fP3F/#/resumo-de-jogo/estatisticas-de-jogo/0'\n",
    "link =  'https://www.flashscore.com.br/jogo/2oCr3wub/#/resumo-de-jogo/estatisticas-de-jogo/0'\n",
    "# link =  'https://www.flashscore.com.br/jogo/nkYBh3YR/#/resumo-de-jogo/estatisticas-de-jogo/0'\n",
    "# link =  'https://www.flashscore.com.br/jogo/IXKwlNtq/#/resumo-de-jogo/estatisticas-de-jogo/0'"
   ]
  },
  {
   "cell_type": "code",
   "execution_count": 39,
   "metadata": {},
   "outputs": [
    {
     "name": "stdout",
     "output_type": "stream",
     "text": [
      "\n"
     ]
    },
    {
     "name": "stderr",
     "output_type": "stream",
     "text": [
      "[WDM] - ====== WebDriver manager ======\n",
      "[WDM] - Current google-chrome version is 104.0.5112\n",
      "[WDM] - Get LATEST chromedriver version for 104.0.5112 google-chrome\n",
      "[WDM] - Driver [C:\\Users\\danil\\.wdm\\drivers\\chromedriver\\win32\\104.0.5112.79\\chromedriver.exe] found in cache\n"
     ]
    }
   ],
   "source": [
    "options = Options()\n",
    "options.add_argument(\"start-maximized\")\n",
    "driver = webdriver.Chrome(service=Service(ChromeDriverManager().install()), options=options)\n",
    "driver.get(link)"
   ]
  },
  {
   "cell_type": "code",
   "execution_count": 40,
   "metadata": {},
   "outputs": [],
   "source": [
    "content = driver.page_source\n",
    "soup = BeautifulSoup(content)"
   ]
  },
  {
   "cell_type": "code",
   "execution_count": 47,
   "metadata": {},
   "outputs": [
    {
     "data": {
      "text/plain": [
       "'20.07.2022 21:30'"
      ]
     },
     "execution_count": 47,
     "metadata": {},
     "output_type": "execute_result"
    }
   ],
   "source": [
    "soup.find_all(\"div\", {\"class\": \"duelParticipant__startTime\"})[0].text.split(\"|\")[0]"
   ]
  },
  {
   "cell_type": "code",
   "execution_count": 17,
   "metadata": {},
   "outputs": [
    {
     "data": {
      "text/plain": [
       "['61%Posse de bola39%',\n",
       " '19Tentativas de gol8',\n",
       " '6Finalizações4',\n",
       " '4Chutes fora4',\n",
       " '9Chutes bloqueados0',\n",
       " '15Faltas cobradas16',\n",
       " '9Escanteios2',\n",
       " '1Impedimentos1',\n",
       " '19Laterais cobrados15',\n",
       " '3Defesas do goleiro3',\n",
       " '16Faltas15',\n",
       " '1Cartões amarelos3',\n",
       " '585Total de passes370',\n",
       " '523Passes completados305',\n",
       " '9Desarmes8',\n",
       " '128Ataques75',\n",
       " '61Ataques Perigosos34']"
      ]
     },
     "execution_count": 17,
     "metadata": {},
     "output_type": "execute_result"
    }
   ],
   "source": [
    "base = []\n",
    "for i in range (len(soup.find_all('div', class_='stat__category'))):\n",
    "    base.append(soup.find_all('div', class_='stat__category')[i].text)\n",
    "base"
   ]
  },
  {
   "cell_type": "code",
   "execution_count": 7,
   "metadata": {
    "scrolled": true
   },
   "outputs": [
    {
     "data": {
      "text/plain": [
       "['Possedebola',\n",
       " 'Tentativasdegol',\n",
       " 'Finalizações',\n",
       " 'Chutesfora',\n",
       " 'Chutesbloqueados',\n",
       " 'Faltascobradas',\n",
       " 'Escanteios',\n",
       " 'Impedimentos',\n",
       " 'Lateraiscobrados',\n",
       " 'Defesasdogoleiro',\n",
       " 'Faltas',\n",
       " 'Cartõesamarelos',\n",
       " 'Totaldepasses',\n",
       " 'Passescompletados',\n",
       " 'Desarmes',\n",
       " 'Ataques',\n",
       " 'AtaquesPerigosos']"
      ]
     },
     "execution_count": 7,
     "metadata": {},
     "output_type": "execute_result"
    }
   ],
   "source": [
    "# gerando array base padronizado com os nomes dos atributos\n",
    "base_padronizada = []\n",
    "for i in range(len(base)):\n",
    "    string_semnum = ''.join([i for i in base[i] if not i.isdigit()])\n",
    "    string_semcaracterespecial = ''.join(char for char in string_semnum if char.isalnum())\n",
    "    base_padronizada.append(string_semcaracterespecial);\n",
    "base_padronizada"
   ]
  },
  {
   "cell_type": "code",
   "execution_count": 8,
   "metadata": {},
   "outputs": [
    {
     "data": {
      "text/plain": [
       "'Coritiba'"
      ]
     },
     "execution_count": 8,
     "metadata": {},
     "output_type": "execute_result"
    }
   ],
   "source": [
    "soup.find_all('title')[0].text.split(\"|\")[1].split(\" - \")[1].strip()"
   ]
  },
  {
   "cell_type": "code",
   "execution_count": 9,
   "metadata": {},
   "outputs": [],
   "source": [
    "# Coletando placar da partida e nome dos times\n",
    "\n",
    "# def funcaoauxiliar1(base):\n",
    "#     '''Entrada: Base não tratada com estatísticas de 1 ou mais jogos\n",
    "#        Saída: Dataframe Tratado'''\n",
    "clube_mandante = []\n",
    "clube_visitante = []\n",
    "placar_mandante = []\n",
    "placar_visitante = []\n",
    "posse_de_bola_mandante = []\n",
    "posse_de_bola_visitante = []\n",
    "tentativas_de_gol_mandante = []\n",
    "tentativas_de_gol_visitante = []\n",
    "finalizacoes_mandante =[]\n",
    "finalizacoes_visitante =[]\n",
    "chutes_fora_mandante = []\n",
    "chutes_fora_visitante = []\n",
    "chutes_bloqueados_mandante =[]\n",
    "chutes_bloqueados_visitante =[]\n",
    "faltas_cobradas_mandante =[]\n",
    "faltas_cobradas_visitante =[]\n",
    "escanteios_mandante = []\n",
    "escanteios_visitante = []\n",
    "impedimentos_mandante = []\n",
    "impedimentos_visitante = []\n",
    "laterais_cobrados_mandante = []\n",
    "laterais_cobrados_visitante = []\n",
    "defesas_de_goleiro_mandante = []\n",
    "defesas_de_goleiro_visitante = []\n",
    "faltas_mandante = []\n",
    "faltas_visitante = []\n",
    "cartoes_vermelhos_mandante = []\n",
    "cartoes_vermelhos_visitante = []\n",
    "cartoes_amarelos_mandante = []\n",
    "cartoes_amarelos_visitante = []\n",
    "total_de_passes_mandante = []\n",
    "total_de_passes_visitante = []\n",
    "passes_completados_mandante = []\n",
    "passes_completados_visitante = []\n",
    "desarmes_mandante = []\n",
    "desarmes_visitante = []\n",
    "ataques_mandante = []\n",
    "ataques_visitante = []\n",
    "ataques_perigosos_mandante = []\n",
    "ataques_perigosos_visitante = []\n",
    "\n",
    "placar_mandante=soup.find_all('div', class_='detailScore__wrapper')[0].text.split(\"-\")[0]\n",
    "placar_visitante=soup.find_all('div', class_='detailScore__wrapper')[0].text.split(\"-\")[1]\n",
    "clube_mandante=soup.find_all('title')[0].text.split(\"|\")[1].split(\"-\")[0].strip()\n",
    "clube_visitante=soup.find_all('title')[0].text.split(\"|\")[1].split(\"-\")[1].strip()\n",
    "\n",
    "for i in range (len(base)):\n",
    "    if base_padronizada[i]=='Possedebola':\n",
    "        posse_de_bola_mandante.append(base[i].split(\"Posse de bola\")[0])\n",
    "        posse_de_bola_visitante.append(base[i].split(\"Posse de bola\")[1])\n",
    "    elif base_padronizada[i]=='Tentativasdegol':\n",
    "        tentativas_de_gol_mandante.append(base[i].split(\"Tentativas de gol\")[0])\n",
    "        tentativas_de_gol_visitante.append(base[i].split(\"Tentativas de gol\")[1])\n",
    "    elif base_padronizada[i]=='Finalizações':\n",
    "        finalizacoes_mandante.append(base[i].split(\"Finalizações\")[0])\n",
    "        finalizacoes_visitante.append(base[i].split(\"Finalizações\")[1])\n",
    "    elif base_padronizada[i]=='Chutesfora':\n",
    "        chutes_fora_mandante.append(base[i].split(\"Chutes fora\")[0])\n",
    "        chutes_fora_visitante.append(base[i].split(\"Chutes fora\")[1])\n",
    "    elif base_padronizada[i]=='Chutesbloqueados':\n",
    "        chutes_bloqueados_mandante.append(base[i].split(\"Chutes bloqueados\")[0])\n",
    "        chutes_bloqueados_visitante.append(base[i].split(\"Chutes bloqueados\")[1])\n",
    "    elif base_padronizada[i]=='Faltascobradas':\n",
    "        faltas_cobradas_mandante.append(base[i].split(\"Faltas cobradas\")[0])\n",
    "        faltas_cobradas_visitante.append(base[i].split(\"Faltas cobradas\")[1])\n",
    "    elif base_padronizada[i]=='Escanteios':\n",
    "        escanteios_mandante.append(base[i].split(\"Escanteios\")[0])\n",
    "        escanteios_visitante.append(base[i].split(\"Escanteios\")[1])\n",
    "    elif base_padronizada[i]=='Impedimentos':\n",
    "        impedimentos_mandante.append(base[i].split(\"Impedimentos\")[0])\n",
    "        impedimentos_visitante.append(base[i].split(\"Impedimentos\")[1])\n",
    "    elif base_padronizada[i]=='Lateraiscobrados':\n",
    "        laterais_cobrados_mandante.append(base[i].split(\"Laterais cobrados\")[0])\n",
    "        laterais_cobrados_visitante.append(base[i].split(\"Laterais cobrados\")[1])\n",
    "    elif base_padronizada[i]=='Defesasdogoleiro':\n",
    "        defesas_de_goleiro_mandante.append(base[i].split(\"Defesas do goleiro\")[0])\n",
    "        defesas_de_goleiro_visitante.append(base[i].split(\"Defesas do goleiro\")[1])\n",
    "    elif base_padronizada[i]=='Faltas':\n",
    "        faltas_mandante.append(base[i].split(\"Faltas\")[0])\n",
    "        faltas_visitante.append(base[i].split(\"Faltas\")[1])\n",
    "    elif base_padronizada[i]=='Cartõesvermelhos':\n",
    "        cartoes_vermelhos_mandante.append(base[i].split(\"Cartões vermelhos\")[0])\n",
    "        cartoes_vermelhos_visitante.append(base[i].split(\"Cartões vermelhos\")[1])\n",
    "    elif base_padronizada[i]=='Cartõesamarelos':\n",
    "        cartoes_amarelos_mandante.append(base[i].split(\"Cartões amarelos\")[0])\n",
    "        cartoes_amarelos_visitante.append(base[i].split(\"Cartões amarelos\")[1])\n",
    "    elif base_padronizada[i]=='Totaldepasses':\n",
    "        total_de_passes_mandante.append(base[i].split(\"Total de passes\")[0])\n",
    "        total_de_passes_visitante.append(base[i].split(\"Total de passes\")[1])\n",
    "    elif base_padronizada[i]=='Passescompletados':\n",
    "        passes_completados_mandante.append(base[i].split(\"Passes completados\")[0])\n",
    "        passes_completados_visitante.append(base[i].split(\"Passes completados\")[1])\n",
    "    elif base_padronizada[i]=='Desarmes':\n",
    "        desarmes_mandante.append(base[i].split(\"Desarmes\")[0])\n",
    "        desarmes_visitante.append(base[i].split(\"Desarmes\")[1])\n",
    "    elif base_padronizada[i]=='Ataques':\n",
    "        ataques_mandante.append(base[i].split(\"Ataques\")[0])\n",
    "        ataques_visitante.append(base[i].split(\"Ataques\")[1])\n",
    "    elif base_padronizada[i]=='AtaquesPerigosos':\n",
    "        ataques_perigosos_mandante.append(base[i].split(\"Ataques Perigosos\")[0])\n",
    "        ataques_perigosos_visitante.append(base[i].split(\"Ataques Perigosos\")[1])\n",
    "\n"
   ]
  },
  {
   "cell_type": "code",
   "execution_count": 10,
   "metadata": {},
   "outputs": [],
   "source": [
    "# Tratamento de variáveis\n",
    "if(len(cartoes_amarelos_mandante)==0):\n",
    "    cartoes_amarelos_mandante.append('0')\n",
    "if(len(cartoes_amarelos_visitante)==0):\n",
    "    cartoes_amarelos_visitante.append('0')\n",
    "if(len(cartoes_vermelhos_mandante)==0):\n",
    "    cartoes_vermelhos_mandante.append('0')\n",
    "if(len(cartoes_vermelhos_visitante)==0):\n",
    "    cartoes_vermelhos_visitante.append('0')"
   ]
  },
  {
   "cell_type": "code",
   "execution_count": 11,
   "metadata": {},
   "outputs": [
    {
     "data": {
      "text/html": [
       "<div>\n",
       "<style scoped>\n",
       "    .dataframe tbody tr th:only-of-type {\n",
       "        vertical-align: middle;\n",
       "    }\n",
       "\n",
       "    .dataframe tbody tr th {\n",
       "        vertical-align: top;\n",
       "    }\n",
       "\n",
       "    .dataframe thead th {\n",
       "        text-align: right;\n",
       "    }\n",
       "</style>\n",
       "<table border=\"1\" class=\"dataframe\">\n",
       "  <thead>\n",
       "    <tr style=\"text-align: right;\">\n",
       "      <th></th>\n",
       "      <th>clube_mandante</th>\n",
       "      <th>clube_visitante</th>\n",
       "      <th>placar_mandante</th>\n",
       "      <th>placar_visitante</th>\n",
       "      <th>posse_de_bola_mandante</th>\n",
       "      <th>posse_de_bola_visitante</th>\n",
       "      <th>tentativas_de_gol_mandante</th>\n",
       "      <th>tentativas_de_gol_visitante</th>\n",
       "      <th>chutes_fora_mandante</th>\n",
       "      <th>chutes_fora_visitante</th>\n",
       "      <th>...</th>\n",
       "      <th>total_de_passes_mandante</th>\n",
       "      <th>total_de_passes_visitante</th>\n",
       "      <th>passes_completados_mandante</th>\n",
       "      <th>passes_completados_visitante</th>\n",
       "      <th>desarmes_mandante</th>\n",
       "      <th>desarmes_visitante</th>\n",
       "      <th>ataques_mandante</th>\n",
       "      <th>ataques_visitante</th>\n",
       "      <th>ataques_perigosos_mandante</th>\n",
       "      <th>ataques_perigosos_visitante</th>\n",
       "    </tr>\n",
       "  </thead>\n",
       "  <tbody>\n",
       "    <tr>\n",
       "      <th>0</th>\n",
       "      <td>Corinthians</td>\n",
       "      <td>Coritiba</td>\n",
       "      <td>3</td>\n",
       "      <td>1</td>\n",
       "      <td>61%</td>\n",
       "      <td>39%</td>\n",
       "      <td>19</td>\n",
       "      <td>8</td>\n",
       "      <td>4</td>\n",
       "      <td>4</td>\n",
       "      <td>...</td>\n",
       "      <td>585</td>\n",
       "      <td>370</td>\n",
       "      <td>523</td>\n",
       "      <td>305</td>\n",
       "      <td>9</td>\n",
       "      <td>8</td>\n",
       "      <td>128</td>\n",
       "      <td>75</td>\n",
       "      <td>61</td>\n",
       "      <td>34</td>\n",
       "    </tr>\n",
       "  </tbody>\n",
       "</table>\n",
       "<p>1 rows × 38 columns</p>\n",
       "</div>"
      ],
      "text/plain": [
       "  clube_mandante clube_visitante placar_mandante placar_visitante  \\\n",
       "0    Corinthians        Coritiba               3                1   \n",
       "\n",
       "  posse_de_bola_mandante posse_de_bola_visitante tentativas_de_gol_mandante  \\\n",
       "0                    61%                     39%                         19   \n",
       "\n",
       "  tentativas_de_gol_visitante chutes_fora_mandante chutes_fora_visitante  ...  \\\n",
       "0                           8                    4                     4  ...   \n",
       "\n",
       "  total_de_passes_mandante total_de_passes_visitante  \\\n",
       "0                      585                       370   \n",
       "\n",
       "  passes_completados_mandante passes_completados_visitante desarmes_mandante  \\\n",
       "0                         523                          305                 9   \n",
       "\n",
       "  desarmes_visitante ataques_mandante ataques_visitante  \\\n",
       "0                  8              128                75   \n",
       "\n",
       "  ataques_perigosos_mandante ataques_perigosos_visitante  \n",
       "0                         61                          34  \n",
       "\n",
       "[1 rows x 38 columns]"
      ]
     },
     "execution_count": 11,
     "metadata": {},
     "output_type": "execute_result"
    }
   ],
   "source": [
    "df = pd.DataFrame({'clube_mandante':clube_mandante,\n",
    "               'clube_visitante':clube_visitante,\n",
    "               'placar_mandante':placar_mandante,\n",
    "               'placar_visitante':placar_visitante,\n",
    "               'posse_de_bola_mandante':posse_de_bola_mandante,\n",
    "               'posse_de_bola_visitante':posse_de_bola_visitante,\n",
    "               'tentativas_de_gol_mandante':tentativas_de_gol_mandante,\n",
    "               'tentativas_de_gol_visitante':tentativas_de_gol_visitante,\n",
    "               'chutes_fora_mandante':chutes_fora_mandante,\n",
    "               'chutes_fora_visitante':chutes_fora_visitante,\n",
    "               'chutes_bloqueados_mandante':chutes_bloqueados_mandante,\n",
    "               'chutes_bloqueados_visitante':chutes_bloqueados_visitante,\n",
    "               'faltas_cobradas_mandante':faltas_cobradas_mandante,\n",
    "               'faltas_cobradas_visitante':faltas_cobradas_visitante,\n",
    "               'escanteios_mandante':escanteios_mandante,\n",
    "               'escanteios_visitante':escanteios_visitante,\n",
    "               'impedimentos_mandante':impedimentos_mandante,\n",
    "               'impedimentos_visitante':impedimentos_visitante,\n",
    "               'laterais_cobrados_mandante':laterais_cobrados_mandante,\n",
    "               'laterais_cobrados_visitante':laterais_cobrados_visitante,\n",
    "               'defesas_de_goleiro_mandante':defesas_de_goleiro_mandante,\n",
    "               'defesas_de_goleiro_visitante':defesas_de_goleiro_visitante,\n",
    "               'faltas_mandante':faltas_mandante,\n",
    "               'faltas_visitante':faltas_visitante,\n",
    "               'cartoes_amarelos_mandante':cartoes_amarelos_mandante,\n",
    "               'cartoes_amarelos_visitante':cartoes_amarelos_visitante,\n",
    "               'cartoes_vermelhos_mandante':cartoes_vermelhos_mandante,\n",
    "               'cartoes_vermelhos_visitante':cartoes_vermelhos_visitante,\n",
    "               'total_de_passes_mandante':total_de_passes_mandante,\n",
    "               'total_de_passes_visitante':total_de_passes_visitante,\n",
    "               'passes_completados_mandante':passes_completados_mandante,\n",
    "               'passes_completados_visitante':passes_completados_visitante,\n",
    "               'desarmes_mandante':desarmes_mandante,\n",
    "               'desarmes_visitante':desarmes_visitante,\n",
    "               'ataques_mandante':ataques_mandante,\n",
    "               'ataques_visitante':ataques_visitante,\n",
    "               'ataques_perigosos_mandante':ataques_perigosos_mandante,\n",
    "               'ataques_perigosos_visitante':ataques_perigosos_visitante\n",
    "              })   \n",
    "\n",
    "# return df\n",
    "df"
   ]
  },
  {
   "cell_type": "code",
   "execution_count": 30,
   "metadata": {},
   "outputs": [],
   "source": [
    "# funcaoauxiliar1(base)"
   ]
  },
  {
   "cell_type": "code",
   "execution_count": 15,
   "metadata": {},
   "outputs": [],
   "source": [
    "# gerar csv\n",
    "\n",
    "df.to_csv('test.csv')"
   ]
  },
  {
   "cell_type": "code",
   "execution_count": 39,
   "metadata": {},
   "outputs": [
    {
     "data": {
      "text/plain": [
       "1"
      ]
     },
     "execution_count": 39,
     "metadata": {},
     "output_type": "execute_result"
    }
   ],
   "source": [
    "qa =[0]\n",
    "len(qa)"
   ]
  },
  {
   "cell_type": "code",
   "execution_count": 35,
   "metadata": {},
   "outputs": [
    {
     "name": "stdout",
     "output_type": "stream",
     "text": [
      "This is a string\n"
     ]
    }
   ],
   "source": [
    "import re\n",
    "string = \"This is a]] string\"\n",
    "string = re.sub(r\"[\\[\\]]\",'', string)\n",
    "print(string)"
   ]
  },
  {
   "cell_type": "code",
   "execution_count": 48,
   "metadata": {},
   "outputs": [],
   "source": [
    "data = '01.08.2022 20:00'"
   ]
  },
  {
   "cell_type": "code",
   "execution_count": 50,
   "metadata": {},
   "outputs": [
    {
     "name": "stdout",
     "output_type": "stream",
     "text": [
      "2022-08-01 20:00:00\n"
     ]
    }
   ],
   "source": [
    "   \n",
    "\n",
    "print(convert(data)) "
   ]
  },
  {
   "cell_type": "code",
   "execution_count": null,
   "metadata": {},
   "outputs": [],
   "source": []
  }
 ],
 "metadata": {
  "kernelspec": {
   "display_name": "Python 3 (ipykernel)",
   "language": "python",
   "name": "python3"
  },
  "language_info": {
   "codemirror_mode": {
    "name": "ipython",
    "version": 3
   },
   "file_extension": ".py",
   "mimetype": "text/x-python",
   "name": "python",
   "nbconvert_exporter": "python",
   "pygments_lexer": "ipython3",
   "version": "3.9.12"
  }
 },
 "nbformat": 4,
 "nbformat_minor": 4
}
