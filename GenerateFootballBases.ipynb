{
 "cells": [
  {
   "cell_type": "code",
   "execution_count": 1,
   "metadata": {},
   "outputs": [],
   "source": [
    "#conda install -c anaconda beautifulsoup4\n",
    "#pip install beautifulsoup4\n",
    "#pip install bs4 #this'll do the work\n",
    "#pip install webdriver-manager"
   ]
  },
  {
   "cell_type": "markdown",
   "metadata": {},
   "source": [
    "## Seções a serem melhoradas ou adicionadas\n",
    "\n",
    "- Automatizar links a serem fornecidos para o script gerar a base de dados\n",
    "\n",
    "## Ligas de Teste\n",
    "\n",
    "- Premier League 2021\n",
    "- Serie B Br 2021"
   ]
  },
  {
   "cell_type": "code",
   "execution_count": 2,
   "metadata": {},
   "outputs": [],
   "source": [
    "# Use esse bloco para instalar pacotes\n"
   ]
  },
  {
   "cell_type": "code",
   "execution_count": 3,
   "metadata": {},
   "outputs": [],
   "source": [
    "from selenium import webdriver\n",
    "from bs4 import BeautifulSoup\n",
    "import pandas as pd\n",
    "from selenium.webdriver.chrome.service import Service\n",
    "from webdriver_manager.chrome import ChromeDriverManager\n",
    "from selenium.webdriver.chrome.options import Options"
   ]
  },
  {
   "cell_type": "code",
   "execution_count": 4,
   "metadata": {},
   "outputs": [],
   "source": [
    "link = 'https://www.flashscore.com.br/jogo/863eg7q9/#/resumo-de-jogo/estatisticas-de-jogo/0'"
   ]
  },
  {
   "cell_type": "code",
   "execution_count": 5,
   "metadata": {},
   "outputs": [
    {
     "name": "stdout",
     "output_type": "stream",
     "text": [
      "\n"
     ]
    },
    {
     "name": "stderr",
     "output_type": "stream",
     "text": [
      "[WDM] - ====== WebDriver manager ======\n",
      "[WDM] - Current google-chrome version is 102.0.5005\n",
      "[WDM] - Get LATEST chromedriver version for 102.0.5005 google-chrome\n",
      "[WDM] - Driver [C:\\Users\\danil\\.wdm\\drivers\\chromedriver\\win32\\102.0.5005.61\\chromedriver.exe] found in cache\n"
     ]
    }
   ],
   "source": [
    "options = Options()\n",
    "options.add_argument(\"start-maximized\")\n",
    "driver = webdriver.Chrome(service=Service(ChromeDriverManager().install()), options=options)\n",
    "driver.get(link)"
   ]
  },
  {
   "cell_type": "code",
   "execution_count": 14,
   "metadata": {},
   "outputs": [],
   "source": [
    "placar = []\n",
    "posse_de_bola_mandante = []\n",
    "posse_de_bola_visitante = []\n",
    "tentativas_de_gol_mandante = []\n",
    "tentativas_de_gol_visitante = []\n",
    "finalizacoes_mandante =[]\n",
    "finalizacoes_visitante =[]\n",
    "chutes_fora_mandante = []\n",
    "chutes_fora_visitante = []\n",
    "chutes_bloqueados_mandante =[]\n",
    "chutes_bloqueados_visitante =[]\n",
    "faltas_cobradas_mandante =[]\n",
    "faltas_cobradas_visitante =[]\n",
    "escanteios_mandante = []\n",
    "escanteios_visitante = []\n",
    "impedimentos_mandante = []\n",
    "impedimentos_visitante = []\n",
    "laterais_cobrados_mandante =[]\n",
    "laterais_cobrados_visitante =[]\n",
    "defesas_de_goleiro_mandante = []\n",
    "defesas_de_goleiro_visitante = []\n",
    "faltas_mandante_visitante = []\n",
    "faltas_visitante = []\n",
    "total_de_passes_mandante = []\n",
    "total_de_passes_visitante = []\n",
    "passes_completados_mandante = []\n",
    "passes_completados_visitante = []\n",
    "desarmes_mandante = []\n",
    "desarmes_visitante = []\n",
    "ataques_mandante = []\n",
    "ataques_visitante = []\n",
    "ataques_perigosos_mandante = []\n",
    "ataques_perigosos_visitante = []"
   ]
  },
  {
   "cell_type": "code",
   "execution_count": 15,
   "metadata": {},
   "outputs": [],
   "source": [
    "driver.get(\"https://www.flashscore.com.br/jogo/863eg7q9/#/resumo-de-jogo/estatisticas-de-jogo/0\")"
   ]
  },
  {
   "cell_type": "code",
   "execution_count": 16,
   "metadata": {},
   "outputs": [],
   "source": [
    "content = driver.page_source\n",
    "soup = BeautifulSoup(content)"
   ]
  },
  {
   "cell_type": "code",
   "execution_count": 23,
   "metadata": {},
   "outputs": [],
   "source": [
    "base = []\n",
    "for i in range (16):\n",
    "    base.append(soup.find_all('div', class_='stat__category')[i].text)"
   ]
  },
  {
   "cell_type": "code",
   "execution_count": 87,
   "metadata": {},
   "outputs": [],
   "source": [
    "# Coletando placar da partida e nome dos times\n",
    "\n",
    "def funcaoauxiliar1(base):\n",
    "#     '''Entrada: Base não tratada com estatísticas de 1 ou mais jogos\n",
    "#        Saída: Dataframe Tratado'''\n",
    "    clube_mandante = []\n",
    "    clube_visitante = []\n",
    "    placar_mandante = []\n",
    "    placar_visitante = []\n",
    "    posse_de_bola_mandante = []\n",
    "    posse_de_bola_visitante = []\n",
    "    tentativas_de_gol_mandante = []\n",
    "    tentativas_de_gol_visitante = []\n",
    "    finalizacoes_mandante =[]\n",
    "    finalizacoes_visitante =[]\n",
    "    chutes_fora_mandante = []\n",
    "    chutes_fora_visitante = []\n",
    "    chutes_bloqueados_mandante =[]\n",
    "    chutes_bloqueados_visitante =[]\n",
    "    faltas_cobradas_mandante =[]\n",
    "    faltas_cobradas_visitante =[]\n",
    "    escanteios_mandante = []\n",
    "    escanteios_visitante = []\n",
    "    impedimentos_mandante = []\n",
    "    impedimentos_visitante = []\n",
    "    laterais_cobrados_mandante = []\n",
    "    laterais_cobrados_visitante = []\n",
    "    defesas_de_goleiro_mandante = []\n",
    "    defesas_de_goleiro_visitante = []\n",
    "    faltas_mandante = []\n",
    "    faltas_visitante = []\n",
    "    total_de_passes_mandante = []\n",
    "    total_de_passes_visitante = []\n",
    "    passes_completados_mandante = []\n",
    "    passes_completados_visitante = []\n",
    "    desarmes_mandante = []\n",
    "    desarmes_visitante = []\n",
    "    ataques_mandante = []\n",
    "    ataques_visitante = []\n",
    "    ataques_perigosos_mandante = []\n",
    "    ataques_perigosos_visitante = []\n",
    "    \n",
    "    placar_mandante=soup.find_all('div', class_='detailScore__wrapper')[0].text.split(\"-\")[0]\n",
    "    placar_visitante=soup.find_all('div', class_='detailScore__wrapper')[0].text.split(\"-\")[1]\n",
    "    clube_mandante=soup.find_all('title')[0].text.split(\"|\")[1].split(\"-\")[0].strip()\n",
    "    clube_visitante=soup.find_all('title')[0].text.split(\"|\")[1].split(\"-\")[1].strip()\n",
    "\n",
    "    for i in range (len(base)):\n",
    "        if i==0:\n",
    "            posse_de_bola_mandante.append(base[i].split(\"Posse de bola\")[0])\n",
    "            posse_de_bola_visitante.append(base[i].split(\"Posse de bola\")[1])\n",
    "        elif i == 1:\n",
    "            tentativas_de_gol_mandante.append(base[i].split(\"Tentativas de gol\")[0])\n",
    "            tentativas_de_gol_visitante.append(base[i].split(\"Tentativas de gol\")[1])\n",
    "        elif i == 2:\n",
    "            finalizacoes_mandante.append(base[i].split(\"Finalizações\")[0])\n",
    "            finalizacoes_visitante.append(base[i].split(\"Finalizações\")[1])\n",
    "        elif i == 3:\n",
    "            chutes_fora_mandante.append(base[i].split(\"Chutes fora\")[0])\n",
    "            chutes_fora_visitante.append(base[i].split(\"Chutes fora\")[1])\n",
    "        elif i == 4:\n",
    "            chutes_bloqueados_mandante.append(base[i].split(\"Chutes bloqueados\")[0])\n",
    "            chutes_bloqueados_visitante.append(base[i].split(\"Chutes bloqueados\")[1])\n",
    "        elif i == 5:\n",
    "            faltas_cobradas_mandante.append(base[i].split(\"Faltas cobradas\")[0])\n",
    "            faltas_cobradas_visitante.append(base[i].split(\"Faltas cobradas\")[1])\n",
    "        elif i == 6:\n",
    "            escanteios_mandante.append(base[i].split(\"Escanteios\")[0])\n",
    "            escanteios_visitante.append(base[i].split(\"Escanteios\")[1])\n",
    "        elif i == 7:\n",
    "            impedimentos_mandante.append(base[i].split(\"Impedimentos\")[0])\n",
    "            impedimentos_visitante.append(base[i].split(\"Impedimentos\")[1])\n",
    "        elif i == 8:\n",
    "            laterais_cobrados_mandante.append(base[i].split(\"Laterais cobrados\")[0])\n",
    "            laterais_cobrados_visitante.append(base[i].split(\"Laterais cobrados\")[1])\n",
    "        elif i == 9:\n",
    "            defesas_de_goleiro_mandante.append(base[i].split(\"Defesas do goleiro\")[0])\n",
    "            defesas_de_goleiro_visitante.append(base[i].split(\"Defesas do goleiro\")[1])\n",
    "        elif i == 10:\n",
    "            faltas_mandante.append(base[i].split(\"Faltas\")[0])\n",
    "            faltas_visitante.append(base[i].split(\"Faltas\")[1])\n",
    "        elif i == 11:\n",
    "            total_de_passes_mandante.append(base[i].split(\"Total de passes\")[0])\n",
    "            total_de_passes_visitante.append(base[i].split(\"Total de passes\")[1])\n",
    "        elif i == 12:\n",
    "            passes_completados_mandante.append(base[i].split(\"Passes completados\")[0])\n",
    "            passes_completados_visitante.append(base[i].split(\"Passes completados\")[1])\n",
    "        elif i == 13:\n",
    "            desarmes_mandante.append(base[i].split(\"Desarmes\")[0])\n",
    "            desarmes_visitante.append(base[i].split(\"Desarmes\")[1])\n",
    "        elif i == 14:\n",
    "            ataques_mandante.append(base[i].split(\"Ataques\")[0])\n",
    "            ataques_visitante.append(base[i].split(\"Ataques\")[1])\n",
    "        elif i == 15:\n",
    "            ataques_perigosos_mandante.append(base[i].split(\"Ataques Perigosos\")[0])\n",
    "            ataques_perigosos_visitante.append(base[i].split(\"Ataques Perigosos\")[1])\n",
    "    \n",
    "    df = pd.DataFrame({'clube_mandante':clube_mandante,\n",
    "                       'clube_visitante':clube_visitante,\n",
    "                       'placar_mandante':placar_mandante,\n",
    "                       'placar_visitante':placar_visitante,\n",
    "                       'posse_de_bola_mandante':posse_de_bola_mandante,\n",
    "                       'posse_de_bola_visitante':posse_de_bola_visitante,\n",
    "                       'tentativas_de_gol_mandante':tentativas_de_gol_mandante,\n",
    "                       'tentativas_de_gol_visitante':tentativas_de_gol_visitante,\n",
    "                       'chutes_fora_mandante':chutes_fora_mandante,\n",
    "                       'chutes_fora_visitante':chutes_fora_visitante,\n",
    "                       'chutes_bloqueados_mandante':chutes_bloqueados_mandante,\n",
    "                       'chutes_bloqueados_visitante':chutes_bloqueados_visitante,\n",
    "                       'faltas_cobradas_mandante':faltas_cobradas_mandante,\n",
    "                       'faltas_cobradas_visitante':faltas_cobradas_visitante,\n",
    "                       'escanteios_mandante':escanteios_mandante,\n",
    "                       'escanteios_visitante':escanteios_visitante,\n",
    "                       'impedimentos_mandante':impedimentos_mandante,\n",
    "                       'impedimentos_visitante':impedimentos_visitante,\n",
    "                       'laterais_cobrados_mandante':laterais_cobrados_mandante,\n",
    "                       'laterais_cobrados_visitante':laterais_cobrados_visitante,\n",
    "                       'defesas_de_goleiro_mandante':defesas_de_goleiro_mandante,\n",
    "                       'defesas_de_goleiro_visitante':defesas_de_goleiro_visitante,\n",
    "                       'faltas_mandante':faltas_mandante,\n",
    "                       'faltas_visitante':faltas_visitante,\n",
    "                       'total_de_passes_mandante':total_de_passes_mandante,\n",
    "                       'total_de_passes_visitante':total_de_passes_visitante,\n",
    "                       'passes_completados_mandante':passes_completados_mandante,\n",
    "                       'passes_completados_visitante':passes_completados_visitante,\n",
    "                       'desarmes_mandante':desarmes_mandante,\n",
    "                       'desarmes_visitante':desarmes_visitante,\n",
    "                       'ataques_mandante':ataques_mandante,\n",
    "                       'ataques_visitante':ataques_visitante,\n",
    "                       'ataques_perigosos_mandante':ataques_perigosos_mandante,\n",
    "                       'ataques_perigosos_visitante':ataques_perigosos_visitante\n",
    "                      })   \n",
    "\n",
    "    return df\n"
   ]
  },
  {
   "cell_type": "code",
   "execution_count": 91,
   "metadata": {},
   "outputs": [],
   "source": [
    "# gerar csv\n",
    "\n",
    "# df.to_csv('test.csv')"
   ]
  },
  {
   "cell_type": "code",
   "execution_count": null,
   "metadata": {},
   "outputs": [],
   "source": []
  }
 ],
 "metadata": {
  "kernelspec": {
   "display_name": "Python 3 (ipykernel)",
   "language": "python",
   "name": "python3"
  },
  "language_info": {
   "codemirror_mode": {
    "name": "ipython",
    "version": 3
   },
   "file_extension": ".py",
   "mimetype": "text/x-python",
   "name": "python",
   "nbconvert_exporter": "python",
   "pygments_lexer": "ipython3",
   "version": "3.9.12"
  }
 },
 "nbformat": 4,
 "nbformat_minor": 4
}
